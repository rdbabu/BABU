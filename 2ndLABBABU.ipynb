{
  "nbformat": 4,
  "nbformat_minor": 0,
  "metadata": {
    "colab": {
      "name": "2ndLABBABU.ipynb",
      "provenance": [],
      "collapsed_sections": [],
      "authorship_tag": "ABX9TyOFubfbw+ABrbWW1OGYC+P3",
      "include_colab_link": true
    },
    "kernelspec": {
      "name": "python3",
      "display_name": "Python 3"
    },
    "language_info": {
      "name": "python"
    }
  },
  "cells": [
    {
      "cell_type": "markdown",
      "metadata": {
        "id": "view-in-github",
        "colab_type": "text"
      },
      "source": [
        "<a href=\"https://colab.research.google.com/github/rdbabu/BABU-RD/blob/main/2ndLABBABU.ipynb\" target=\"_parent\"><img src=\"https://colab.research.google.com/assets/colab-badge.svg\" alt=\"Open In Colab\"/></a>"
      ]
    },
    {
      "cell_type": "code",
      "execution_count": 1,
      "metadata": {
        "colab": {
          "base_uri": "https://localhost:8080/"
        },
        "id": "t8d2lDwACkAy",
        "outputId": "34ea1cc5-7fca-4c42-bc3e-5762f5639f5a"
      },
      "outputs": [
        {
          "output_type": "stream",
          "name": "stdout",
          "text": [
            "Choice 1: Add 2: sub 3: div 4: mul 5: Quit\n",
            "enter your choice:4\n",
            "ENTER A NUMBER 155\n",
            "ENTER A NUMBER 222\n",
            "THE MUL OF 55 * 22 = 1210\n"
          ]
        }
      ],
      "source": [
        "print (\"Choice 1: Add 2: sub 3: div 4: mul 5: Quit\")\n",
        "n1=input(\"enter your choice:\")\n",
        "n=int(n1)\n",
        "if (n==1):\n",
        "  a1 = input(\"ENTER A NUMBER 1\")\n",
        "  b1 = input(\"ENTER A NUMBER 2\")\n",
        "  a = int(a1)\n",
        "  b = int(b1)\n",
        "  c = a+b\n",
        "  print(\"THE ADD OF\",a,\"+\",b,\"=\",c)\n",
        "elif (n==2):\n",
        "  a1 = input(\"ENTER A NUMBER 1\")\n",
        "  b1 = input(\"ENTER A NUMBER 2\")\n",
        "  a = int(a1)\n",
        "  b = int(b1)\n",
        "  c = a-b\n",
        "  print(\"THE SUB OF\",a,\"-\",b,\"=\",c)\n",
        "elif (n==3):\n",
        "  a1 = input(\"ENTER A NUMBER 1\")\n",
        "  b1 = input(\"ENTER A NUMBER 2\")\n",
        "  a = int(a1)\n",
        "  b = int(b1)\n",
        "  c = a/b\n",
        "  print(\"THE DIV OF\",a,\"/\",b,\"=\",c)\n",
        "elif (n==4):\n",
        "  a1 = input(\"ENTER A NUMBER 1\")\n",
        "  b1 = input(\"ENTER A NUMBER 2\")\n",
        "  a = int(a1)\n",
        "  b = int(b1)\n",
        "  c = a*b\n",
        "  print(\"THE MUL OF\",a,\"*\",b,\"=\",c)\n",
        "elif (n==5):\n",
        "  exit()\n",
        "\n"
      ]
    },
    {
      "cell_type": "code",
      "source": [
        "print (\"Fibonmacci Series\")\n",
        "n1 = input(\"Enter the number:\")\n",
        "n = int(n1)\n",
        "if (n>0):\n",
        "  f = 0\n",
        "  s = 1\n",
        "  i = 0\n",
        "  next = 0\n",
        "  while (1):\n",
        "    print (\"\\n\\n****************************\")\n",
        "    for i in range (n+1):\n",
        "      if (i<=1):\n",
        "        print(i)\n",
        "      else:\n",
        "        next = f + s\n",
        "        f = s\n",
        "        s = next\n",
        "        print (next)\n",
        "    i = i + 1\n",
        "    break\n",
        "else:\n",
        "  print (\"You have entered wrong input\", n)"
      ],
      "metadata": {
        "colab": {
          "base_uri": "https://localhost:8080/"
        },
        "id": "volj9G5dO0Zg",
        "outputId": "dc486d4e-7c15-46d2-e14d-573cf8cf1019"
      },
      "execution_count": 2,
      "outputs": [
        {
          "output_type": "stream",
          "name": "stdout",
          "text": [
            "Fibonmacci Series\n",
            "Enter the number:9\n",
            "\n",
            "\n",
            "****************************\n",
            "0\n",
            "1\n",
            "1\n",
            "2\n",
            "3\n",
            "5\n",
            "8\n",
            "13\n",
            "21\n",
            "34\n"
          ]
        }
      ]
    },
    {
      "cell_type": "code",
      "source": [
        "num = 9\n",
        "num_sqrt = num**0.5\n",
        "print(\"The square root of\",num,\"is\",num_sqrt)"
      ],
      "metadata": {
        "colab": {
          "base_uri": "https://localhost:8080/"
        },
        "id": "dc6xrUagTW2x",
        "outputId": "67b0ad82-da73-459b-ac36-4b1dc1fa9c98"
      },
      "execution_count": 4,
      "outputs": [
        {
          "output_type": "stream",
          "name": "stdout",
          "text": [
            "The square root of 9 is 3.0\n"
          ]
        }
      ]
    },
    {
      "cell_type": "code",
      "source": [
        "print(\"AREA OF TRIANGLE\")\n",
        "a=int(input(\"Enter a\"))\n",
        "b=int(input(\"Enter b\"))\n",
        "c=int(input(\"Enter c\"))\n",
        "s=(a+b+c)/2\n",
        "area=(s*(s-a)*(s-b)*(s-c))/2\n",
        "print(\"THE AREA OF TRIANGLE IS:\",area)\n"
      ],
      "metadata": {
        "colab": {
          "base_uri": "https://localhost:8080/"
        },
        "id": "DQ5AT5PEVpth",
        "outputId": "97b85ff0-49f8-48f1-f452-05a14e8e38a6"
      },
      "execution_count": 5,
      "outputs": [
        {
          "output_type": "stream",
          "name": "stdout",
          "text": [
            "AREA OF TRIANGLE\n",
            "Enter a3\n",
            "Enter b5\n",
            "Enter c6\n",
            "THE AREA OF TRIANGLE IS: 28.0\n"
          ]
        }
      ]
    },
    {
      "cell_type": "code",
      "source": [
        "x=int(input(\"Enter the value 1:\"))\n",
        "y=int(input(\"Enter the value 2:\"))\n",
        "temp = x\n",
        "x = y\n",
        "y = temp\n",
        "print(\"The value of x after swapping\",x)\n",
        "print(\"the value of y after swapping\",y)"
      ],
      "metadata": {
        "colab": {
          "base_uri": "https://localhost:8080/"
        },
        "id": "VfdDYQhSadwO",
        "outputId": "3be338a7-0628-415d-c254-f5b475eae91f"
      },
      "execution_count": 9,
      "outputs": [
        {
          "output_type": "stream",
          "name": "stdout",
          "text": [
            "Enter the value 1:6\n",
            "Enter the value 2:7\n",
            "The value of x after swapping 7\n",
            "the value of y after swapping 6\n"
          ]
        }
      ]
    },
    {
      "cell_type": "code",
      "source": [
        ""
      ],
      "metadata": {
        "id": "Z3JSpFMBcpCq"
      },
      "execution_count": null,
      "outputs": []
    },
    {
      "cell_type": "code",
      "source": [
        ""
      ],
      "metadata": {
        "id": "xBiaN-Vib5ZT"
      },
      "execution_count": null,
      "outputs": []
    }
  ]
}