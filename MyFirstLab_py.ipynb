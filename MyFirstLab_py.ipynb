{
  "nbformat": 4,
  "nbformat_minor": 0,
  "metadata": {
    "colab": {
      "name": "MyFirstLab.py",
      "provenance": [],
      "authorship_tag": "ABX9TyPJtzQuSk4lWsG36A5LS9DO",
      "include_colab_link": true
    },
    "kernelspec": {
      "name": "python3",
      "display_name": "Python 3"
    },
    "language_info": {
      "name": "python"
    }
  },
  "cells": [
    {
      "cell_type": "markdown",
      "metadata": {
        "id": "view-in-github",
        "colab_type": "text"
      },
      "source": [
        "<a href=\"https://colab.research.google.com/github/rdbabu/BABU/blob/main/MyFirstLab_py.ipynb\" target=\"_parent\"><img src=\"https://colab.research.google.com/assets/colab-badge.svg\" alt=\"Open In Colab\"/></a>"
      ]
    },
    {
      "cell_type": "code",
      "execution_count": null,
      "metadata": {
        "colab": {
          "base_uri": "https://localhost:8080/"
        },
        "id": "NAYxoxxBCYNC",
        "outputId": "8e9e0fe2-34f0-4325-80b8-27d75a459c60"
      },
      "outputs": [
        {
          "output_type": "execute_result",
          "data": {
            "text/plain": [
              "25"
            ]
          },
          "metadata": {},
          "execution_count": 1
        }
      ],
      "source": [
        "a=10\n",
        "b=15\n",
        "c=a+b\n",
        "c"
      ]
    },
    {
      "cell_type": "code",
      "source": [
        "x=100\n",
        "y=50\n",
        "print(x)\n",
        "print(y)\n",
        "print(x-y)"
      ],
      "metadata": {
        "colab": {
          "base_uri": "https://localhost:8080/"
        },
        "id": "qYezFsP8D6T4",
        "outputId": "a3f7ca15-d739-470a-9af1-485a263c0d81"
      },
      "execution_count": null,
      "outputs": [
        {
          "output_type": "stream",
          "name": "stdout",
          "text": [
            "100\n",
            "50\n",
            "50\n"
          ]
        }
      ]
    },
    {
      "cell_type": "code",
      "source": [
        "x=10.35\n",
        "type(x)"
      ],
      "metadata": {
        "colab": {
          "base_uri": "https://localhost:8080/"
        },
        "id": "LeiZP0hREtXI",
        "outputId": "4ed4c872-4980-49ff-f75b-d5385c3a3856"
      },
      "execution_count": null,
      "outputs": [
        {
          "output_type": "execute_result",
          "data": {
            "text/plain": [
              "float"
            ]
          },
          "metadata": {},
          "execution_count": 4
        }
      ]
    },
    {
      "cell_type": "code",
      "source": [
        "x=\"babu\"\n",
        "y=\"dilli\"\n",
        "z=x+y\n",
        "z"
      ],
      "metadata": {
        "colab": {
          "base_uri": "https://localhost:8080/",
          "height": 35
        },
        "id": "urG27eeUFgYI",
        "outputId": "7edae58f-1baf-4a63-ef50-89517aacd60c"
      },
      "execution_count": null,
      "outputs": [
        {
          "output_type": "execute_result",
          "data": {
            "application/vnd.google.colaboratory.intrinsic+json": {
              "type": "string"
            },
            "text/plain": [
              "'babudilli'"
            ]
          },
          "metadata": {},
          "execution_count": 7
        }
      ]
    },
    {
      "cell_type": "code",
      "source": [
        "x=13e4\n",
        "print(x)\n",
        "type(x)"
      ],
      "metadata": {
        "colab": {
          "base_uri": "https://localhost:8080/"
        },
        "id": "ZnI8LrHeF7X6",
        "outputId": "395b45e7-9755-4d4a-88aa-2a5683dd6cab"
      },
      "execution_count": null,
      "outputs": [
        {
          "output_type": "stream",
          "name": "stdout",
          "text": [
            "130000.0\n"
          ]
        },
        {
          "output_type": "execute_result",
          "data": {
            "text/plain": [
              "float"
            ]
          },
          "metadata": {},
          "execution_count": 9
        }
      ]
    },
    {
      "cell_type": "code",
      "source": [
        "x=18j\n",
        "type(x)"
      ],
      "metadata": {
        "colab": {
          "base_uri": "https://localhost:8080/"
        },
        "id": "iMHu6xvNGafT",
        "outputId": "4e698247-44e0-4968-9c38-bea1f91af5a2"
      },
      "execution_count": null,
      "outputs": [
        {
          "output_type": "execute_result",
          "data": {
            "text/plain": [
              "complex"
            ]
          },
          "metadata": {},
          "execution_count": 10
        }
      ]
    },
    {
      "cell_type": "code",
      "source": [
        "numb=10<4\n",
        "type(numb)\n",
        "numb"
      ],
      "metadata": {
        "colab": {
          "base_uri": "https://localhost:8080/"
        },
        "id": "eTlZHrYkGo_m",
        "outputId": "d6d97be3-e6cb-474e-cb18-b5042c50dde4"
      },
      "execution_count": null,
      "outputs": [
        {
          "output_type": "execute_result",
          "data": {
            "text/plain": [
              "False"
            ]
          },
          "metadata": {},
          "execution_count": 12
        }
      ]
    },
    {
      "cell_type": "code",
      "source": [
        "x='hello'\n",
        "y=\"crescent\"\n",
        "z=input()\n",
        "print(\"example values=\",x,y,z)"
      ],
      "metadata": {
        "colab": {
          "base_uri": "https://localhost:8080/"
        },
        "id": "VO7tBv-0HCQG",
        "outputId": "d55e47d3-6b04-4729-955e-d02072f7d38e"
      },
      "execution_count": null,
      "outputs": [
        {
          "output_type": "stream",
          "name": "stdout",
          "text": [
            "hi\n",
            "example values= hello crescent hi\n"
          ]
        }
      ]
    },
    {
      "cell_type": "code",
      "source": [
        "name=\"crescent\"\n",
        "len(name)\n"
      ],
      "metadata": {
        "colab": {
          "base_uri": "https://localhost:8080/"
        },
        "id": "8x_bUHvnH7cc",
        "outputId": "a490f294-7b19-4082-8ef5-64399f2a6f70"
      },
      "execution_count": null,
      "outputs": [
        {
          "output_type": "execute_result",
          "data": {
            "text/plain": [
              "8"
            ]
          },
          "metadata": {},
          "execution_count": 16
        }
      ]
    },
    {
      "cell_type": "code",
      "source": [
        "name=\"dillibabu\"\n",
        "name[3:6]"
      ],
      "metadata": {
        "colab": {
          "base_uri": "https://localhost:8080/",
          "height": 35
        },
        "id": "xfTRcoo7IPnI",
        "outputId": "75dbc1ca-08e3-404f-d61e-da7bf3da9b8b"
      },
      "execution_count": null,
      "outputs": [
        {
          "output_type": "execute_result",
          "data": {
            "application/vnd.google.colaboratory.intrinsic+json": {
              "type": "string"
            },
            "text/plain": [
              "'lib'"
            ]
          },
          "metadata": {},
          "execution_count": 18
        }
      ]
    },
    {
      "cell_type": "code",
      "source": [
        "a=5\n",
        "b=4\n",
        "c=6\n",
        "s=(a+b+c)/2\n",
        "area=(s*(s-a)*(s-b)*(s-c))**0.5\n",
        "print(\"Area of the triangle is\",str(area))"
      ],
      "metadata": {
        "colab": {
          "base_uri": "https://localhost:8080/"
        },
        "id": "0v1EyLMzJt0f",
        "outputId": "cb010255-3241-4e69-db98-81e4c2db233b"
      },
      "execution_count": null,
      "outputs": [
        {
          "output_type": "stream",
          "name": "stdout",
          "text": [
            "Area of the triangle is 9.921567416492215\n"
          ]
        }
      ]
    },
    {
      "cell_type": "code",
      "source": [
        ""
      ],
      "metadata": {
        "id": "vWpsyz32Nou0"
      },
      "execution_count": null,
      "outputs": []
    },
    {
      "cell_type": "code",
      "source": [
        ""
      ],
      "metadata": {
        "id": "pfQsEYtYKGiU"
      },
      "execution_count": null,
      "outputs": []
    }
  ]
}