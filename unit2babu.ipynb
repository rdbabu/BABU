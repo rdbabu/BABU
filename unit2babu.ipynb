{
  "nbformat": 4,
  "nbformat_minor": 0,
  "metadata": {
    "colab": {
      "name": "unit2babu.ipynb",
      "provenance": [],
      "collapsed_sections": [],
      "authorship_tag": "ABX9TyNefvzXTf+QwzhrEnur47ib",
      "include_colab_link": true
    },
    "kernelspec": {
      "name": "python3",
      "display_name": "Python 3"
    },
    "language_info": {
      "name": "python"
    }
  },
  "cells": [
    {
      "cell_type": "markdown",
      "metadata": {
        "id": "view-in-github",
        "colab_type": "text"
      },
      "source": [
        "<a href=\"https://colab.research.google.com/github/rdbabu/BABU-RD/blob/main/unit2babu.ipynb\" target=\"_parent\"><img src=\"https://colab.research.google.com/assets/colab-badge.svg\" alt=\"Open In Colab\"/></a>"
      ]
    },
    {
      "cell_type": "code",
      "execution_count": 4,
      "metadata": {
        "colab": {
          "base_uri": "https://localhost:8080/"
        },
        "id": "t5zKAlrdoTDh",
        "outputId": "4893dc24-2227-4a85-f59c-58f37c6eb124"
      },
      "outputs": [
        {
          "output_type": "stream",
          "name": "stdout",
          "text": [
            "{'dhilip', 'afsar', 'babu'}\n"
          ]
        }
      ],
      "source": [
        "names={'babu',\n",
        "        'afsar',\n",
        "        'dhilip'}\n",
        "print(names)\n"
      ]
    },
    {
      "cell_type": "code",
      "source": [
        "x=y+3\n"
      ],
      "metadata": {
        "colab": {
          "base_uri": "https://localhost:8080/",
          "height": 166
        },
        "id": "vZTuzbspqdYl",
        "outputId": "21e6cc91-eb83-4ca1-f703-874e05be45de"
      },
      "execution_count": 5,
      "outputs": [
        {
          "output_type": "error",
          "ename": "NameError",
          "evalue": "ignored",
          "traceback": [
            "\u001b[0;31m---------------------------------------------------------------------------\u001b[0m",
            "\u001b[0;31mNameError\u001b[0m                                 Traceback (most recent call last)",
            "\u001b[0;32m<ipython-input-5-428ae024187c>\u001b[0m in \u001b[0;36m<module>\u001b[0;34m()\u001b[0m\n\u001b[0;32m----> 1\u001b[0;31m \u001b[0mx\u001b[0m\u001b[0;34m=\u001b[0m\u001b[0my\u001b[0m\u001b[0;34m+\u001b[0m\u001b[0;36m3\u001b[0m\u001b[0;34m\u001b[0m\u001b[0;34m\u001b[0m\u001b[0m\n\u001b[0m",
            "\u001b[0;31mNameError\u001b[0m: name 'y' is not defined"
          ]
        }
      ]
    },
    {
      "cell_type": "code",
      "source": [
        "x=10\n",
        "y=15\n",
        "print('x+y=',x+y)\n",
        "print('x-y=',x-y)\n",
        "print('x/y=',x/y)\n",
        "print('x*y=',x*y)\n",
        "print('x//y',x//y)\n",
        "print('x**y',x**y)"
      ],
      "metadata": {
        "colab": {
          "base_uri": "https://localhost:8080/"
        },
        "id": "8LGHjwxyqyuU",
        "outputId": "b93394d1-7389-44ab-fecd-ca659a4bea28"
      },
      "execution_count": 8,
      "outputs": [
        {
          "output_type": "stream",
          "name": "stdout",
          "text": [
            "x+y= 25\n",
            "x-y= -5\n",
            "x/y= 0.6666666666666666\n",
            "x*y= 150\n",
            "x//y 0\n",
            "x**y 1000000000000000\n"
          ]
        }
      ]
    },
    {
      "cell_type": "code",
      "source": [
        "x=10\n",
        "y=15\n",
        "print('x>y is',x>y)\n",
        "print('x<y is',x<y)\n",
        "print('x==y is',x==y)\n",
        "print('x!=y is',x!=y)\n",
        "print('x>=y is',x>=y)\n",
        "print('x<=y is',x<y)"
      ],
      "metadata": {
        "colab": {
          "base_uri": "https://localhost:8080/"
        },
        "id": "n_38tYZos3B1",
        "outputId": "b2ff4c4e-800b-4568-ed35-55f6c620dbf6"
      },
      "execution_count": 9,
      "outputs": [
        {
          "output_type": "stream",
          "name": "stdout",
          "text": [
            "x>y is False\n",
            "x<y is True\n",
            "x==y is False\n",
            "x!=y is True\n",
            "x>=y is False\n",
            "x<=y is True\n"
          ]
        }
      ]
    },
    {
      "cell_type": "code",
      "source": [
        "x = True\n",
        "y = False\n",
        "print('x and y is',x and y)\n",
        "print('x or y is',x or y)\n",
        "print('not y is',not y) "
      ],
      "metadata": {
        "colab": {
          "base_uri": "https://localhost:8080/"
        },
        "id": "QigxeRi7uJfx",
        "outputId": "a894ef34-edb6-418b-9dbc-b8956cd34aa1"
      },
      "execution_count": 13,
      "outputs": [
        {
          "output_type": "stream",
          "name": "stdout",
          "text": [
            "x and y is False\n",
            "x or y is True\n",
            "not y is True\n"
          ]
        }
      ]
    },
    {
      "cell_type": "code",
      "source": [
        "x1 = 10\n",
        "y1 = 10\n",
        "x2 = 'hello'\n",
        "y2 = 'hello'\n",
        "x3 = {1,2,3}\n",
        "y3 = {1,2,3}\n",
        "print(x1 is not y1)\n",
        "print(x2 is y2)\n",
        "print(x3 is y3)"
      ],
      "metadata": {
        "colab": {
          "base_uri": "https://localhost:8080/"
        },
        "id": "WFxTvXTPu5J6",
        "outputId": "b740f69c-9a53-4787-f183-78390c5fff4c"
      },
      "execution_count": 15,
      "outputs": [
        {
          "output_type": "stream",
          "name": "stdout",
          "text": [
            "False\n",
            "True\n",
            "False\n"
          ]
        }
      ]
    },
    {
      "cell_type": "code",
      "source": [
        "x = 'hello world'\n",
        "y = {1:'a',2:'b'}\n",
        "print('h' in x)\n",
        "print('hello' not in x)\n",
        "print('1' in y)\n",
        "print('b' in y)\n"
      ],
      "metadata": {
        "colab": {
          "base_uri": "https://localhost:8080/"
        },
        "id": "97aEmGLnv7ox",
        "outputId": "f25cd98b-a049-4305-ff60-d7992aca8f00"
      },
      "execution_count": 18,
      "outputs": [
        {
          "output_type": "stream",
          "name": "stdout",
          "text": [
            "True\n",
            "False\n",
            "False\n",
            "False\n"
          ]
        }
      ]
    },
    {
      "cell_type": "code",
      "source": [
        "a=10\n",
        "b=5\n",
        "c= a & b\n",
        "print(c)"
      ],
      "metadata": {
        "colab": {
          "base_uri": "https://localhost:8080/"
        },
        "id": "n-JKF7wayXIl",
        "outputId": "10c96daa-c07c-4fbe-cb66-c3d31cc18159"
      },
      "execution_count": 26,
      "outputs": [
        {
          "output_type": "stream",
          "name": "stdout",
          "text": [
            "0\n"
          ]
        }
      ]
    },
    {
      "cell_type": "code",
      "source": [
        "a=15\n",
        "b=5\n",
        "k= a | b\n",
        "print(k)"
      ],
      "metadata": {
        "colab": {
          "base_uri": "https://localhost:8080/"
        },
        "id": "9eWYGBymzUsN",
        "outputId": "409a0707-f705-4225-df4b-4e27bd52d0d4"
      },
      "execution_count": 24,
      "outputs": [
        {
          "output_type": "stream",
          "name": "stdout",
          "text": [
            "15\n"
          ]
        }
      ]
    },
    {
      "cell_type": "code",
      "source": [
        "a=10\n",
        "b=5\n",
        "print(\"~a =\",~a)"
      ],
      "metadata": {
        "colab": {
          "base_uri": "https://localhost:8080/"
        },
        "id": "fg8huCI4zpQ4",
        "outputId": "3253e2d6-2cdc-4b34-9a12-480f240bf06a"
      },
      "execution_count": 27,
      "outputs": [
        {
          "output_type": "stream",
          "name": "stdout",
          "text": [
            "~a = -11\n"
          ]
        }
      ]
    },
    {
      "cell_type": "code",
      "source": [
        "a = 20\n",
        "b = -20\n",
        "print(\"a>>1\",a>>1)\n",
        "print(\"b>>1\",b>>1)"
      ],
      "metadata": {
        "colab": {
          "base_uri": "https://localhost:8080/"
        },
        "id": "ek5QE9kI0Bsl",
        "outputId": "47fae68a-6d57-4443-eb5d-7891b54d3c3c"
      },
      "execution_count": 29,
      "outputs": [
        {
          "output_type": "stream",
          "name": "stdout",
          "text": [
            "a>>1 10\n",
            "b>>1 -10\n"
          ]
        }
      ]
    },
    {
      "cell_type": "code",
      "source": [
        "num1=int(input(\"Enter First Number\"))\n",
        "num2=int(input(\"Enter Second Number\"))\n",
        "SumValue = (num1 - num2)\n",
        "print(\" The Sum Of The Given Number is\", SumValue)"
      ],
      "metadata": {
        "colab": {
          "base_uri": "https://localhost:8080/"
        },
        "id": "UQHBagU01oe7",
        "outputId": "0deb0f93-9501-4a17-99dd-5c970c573c08"
      },
      "execution_count": 35,
      "outputs": [
        {
          "output_type": "stream",
          "name": "stdout",
          "text": [
            "Enter First Number10\n",
            "Enter Second Number5\n",
            " The Sum Of The Given Number is 5\n"
          ]
        }
      ]
    },
    {
      "cell_type": "code",
      "source": [
        "fruits=[\"apple\",\"mango\",\"orange\"]\n",
        "numbers=(1,2,3)\n",
        "alphabets={'a':'apple','b':'ball','c':'cat'}\n",
        "vowels={'a','e','i','o','u'}\n",
        "print(fruits)\n",
        "print(numbers)\n",
        "print(alphabets)\n",
        "print(vowels)\n"
      ],
      "metadata": {
        "colab": {
          "base_uri": "https://localhost:8080/"
        },
        "id": "4dPN1e1y1L2y",
        "outputId": "2facee4c-2d7e-4655-dcb3-48b0d1665463"
      },
      "execution_count": 34,
      "outputs": [
        {
          "output_type": "stream",
          "name": "stdout",
          "text": [
            "['apple', 'mango', 'orange']\n",
            "(1, 2, 3)\n",
            "{'a': 'apple', 'b': 'ball', 'c': 'cat'}\n",
            "{'e', 'i', 'o', 'a', 'u'}\n"
          ]
        }
      ]
    },
    {
      "cell_type": "code",
      "source": [
        "y=5\n",
        "y+2=x\n",
        "print(x)\n"
      ],
      "metadata": {
        "colab": {
          "base_uri": "https://localhost:8080/",
          "height": 131
        },
        "id": "MQB4Dg659Dul",
        "outputId": "0cb1973c-ed5b-403d-be24-6ce84bd06fb4"
      },
      "execution_count": 36,
      "outputs": [
        {
          "output_type": "error",
          "ename": "SyntaxError",
          "evalue": "ignored",
          "traceback": [
            "\u001b[0;36m  File \u001b[0;32m\"<ipython-input-36-069612043acf>\"\u001b[0;36m, line \u001b[0;32m2\u001b[0m\n\u001b[0;31m    y+2=x\u001b[0m\n\u001b[0m         ^\u001b[0m\n\u001b[0;31mSyntaxError\u001b[0m\u001b[0;31m:\u001b[0m can't assign to operator\n"
          ]
        }
      ]
    }
  ]
}